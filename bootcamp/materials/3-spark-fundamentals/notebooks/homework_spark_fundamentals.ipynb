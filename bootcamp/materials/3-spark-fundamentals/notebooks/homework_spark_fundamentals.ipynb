{
 "cells": [
  {
   "cell_type": "code",
   "execution_count": 1,
   "id": "b79cf30b-2de5-4402-a0d8-1e90250b7773",
   "metadata": {},
   "outputs": [],
   "source": [
    "# TASK 1 - Disable broadcast join\n",
    "spark.conf.set(\"spark.sql.autoBroadcastJoinThreshold\", \"-1\")"
   ]
  },
  {
   "cell_type": "code",
   "execution_count": 2,
   "id": "65077e47-90d4-4ac4-9ed9-dccf9ef48947",
   "metadata": {},
   "outputs": [
    {
     "name": "stderr",
     "output_type": "stream",
     "text": [
      "24/12/20 11:24:23 WARN SparkSession: Using an existing Spark session; only runtime SQL configurations will take effect.\n"
     ]
    },
    {
     "data": {
      "text/html": [
       "<table>\n",
       "    <thead>\n",
       "        <tr>\n",
       "        </tr>\n",
       "    </thead>\n",
       "    <tbody>\n",
       "    </tbody>\n",
       "</table>"
      ],
      "text/plain": [
       "++\n",
       "||\n",
       "++\n",
       "++"
      ]
     },
     "execution_count": 2,
     "metadata": {},
     "output_type": "execute_result"
    }
   ],
   "source": [
    "%%sql\n",
    "CREATE DATABASE IF NOT EXISTS bootcamp"
   ]
  },
  {
   "cell_type": "code",
   "execution_count": 3,
   "id": "43bd3d75-1374-4809-b42e-d378ce8cb444",
   "metadata": {},
   "outputs": [
    {
     "name": "stderr",
     "output_type": "stream",
     "text": [
      "                                                                                \r"
     ]
    },
    {
     "name": "stdout",
     "output_type": "stream",
     "text": [
      "+----------+------------------------------------+---------------+-----+------------------------------------------------------------------------------------------------------------------------------+-----------+----------+------------------+-------------------+------------+-------------+-----------------+-------------------------------------------------+------------+----------+\n",
      "|medal_id  |match_id                            |player_gamertag|count|sprite_uri                                                                                                                    |sprite_left|sprite_top|sprite_sheet_width|sprite_sheet_height|sprite_width|sprite_height|classification   |description                                      |name        |difficulty|\n",
      "+----------+------------------------------------+---------------+-----+------------------------------------------------------------------------------------------------------------------------------+-----------+----------+------------------+-------------------+------------+-------------+-----------------+-------------------------------------------------+------------+----------+\n",
      "|3261908037|009fdac5-e15c-47c6-a202-e18ff8800ce7|EcZachly       |7    |https://content.halocdn.com/media/Default/games/halo-5-guardians/sprites/medalspritesheet-be288ea5c0994a4e9d36f43aee7bc631.png|375        |525       |74                |74                 |1125        |899          |WeaponProficiency|Kill an opponent by shooting them in the head.   |Headshot    |60        |\n",
      "|824733727 |009fdac5-e15c-47c6-a202-e18ff8800ce7|EcZachly       |2    |https://content.halocdn.com/media/Default/games/halo-5-guardians/sprites/medalspritesheet-be288ea5c0994a4e9d36f43aee7bc631.png|975        |450       |74                |74                 |1125        |899          |Style            |Distract an opponent who is then killed.         |Distraction |150       |\n",
      "|2078758684|009fdac5-e15c-47c6-a202-e18ff8800ce7|EcZachly       |2    |https://content.halocdn.com/media/Default/games/halo-5-guardians/sprites/medalspritesheet-be288ea5c0994a4e9d36f43aee7bc631.png|450        |300       |74                |74                 |1125        |899          |MultiKill        |Kill 2 opponents within 5 seconds of one another.|Double Kill |45        |\n",
      "|2782465081|009fdac5-e15c-47c6-a202-e18ff8800ce7|EcZachly       |2    |https://content.halocdn.com/media/Default/games/halo-5-guardians/sprites/medalspritesheet-be288ea5c0994a4e9d36f43aee7bc631.png|0          |675       |74                |74                 |1125        |899          |Style            |Kill an enemy who shot you first.                |Reversal    |115       |\n",
      "|3001183151|9169d1a3-955c-4ea9-a9a4-6d57da097660|EcZachly       |1    |https://content.halocdn.com/media/Default/games/halo-5-guardians/sprites/medalspritesheet-be288ea5c0994a4e9d36f43aee7bc631.png|300        |600       |74                |74                 |1125        |899          |Style            |Earn the first kill of the match.                |First Strike|180       |\n",
      "+----------+------------------------------------+---------------+-----+------------------------------------------------------------------------------------------------------------------------------+-----------+----------+------------------+-------------------+------------+-------------+-----------------+-------------------------------------------------+------------+----------+\n",
      "only showing top 5 rows\n",
      "\n"
     ]
    }
   ],
   "source": [
    "# TASK 2 - Explicit broadcast join for both medals and maps\n",
    "import pyspark.sql.functions as f\n",
    "\n",
    "medals = (\n",
    "    spark.read.option(\"header\", \"true\")\n",
    "    .option(\"inferSchema\", \"true\")\n",
    "    .csv(\"/home/iceberg/data/medals.csv\")\n",
    ")\n",
    "\n",
    "medals_matches_players = (\n",
    "    spark.read.option(\"header\", \"true\")\n",
    "    .option(\"inferSchema\", \"true\")\n",
    "    .csv(\"/home/iceberg/data/medals_matches_players.csv\")\n",
    ")\n",
    "\n",
    "medals_matches_players_medal_info = (\n",
    "    medals_matches_players\n",
    "    .join(\n",
    "        f.broadcast(medals),\n",
    "        [\"medal_id\"],\n",
    "        \"left\"\n",
    "    )\n",
    ")\n",
    "\n",
    "medals_matches_players_medal_info.show(5, False)"
   ]
  },
  {
   "cell_type": "code",
   "execution_count": 4,
   "id": "a8fc801c-08e6-4ead-92e5-3088c21c8796",
   "metadata": {},
   "outputs": [
    {
     "name": "stderr",
     "output_type": "stream",
     "text": [
      "                                                                                \r"
     ]
    }
   ],
   "source": [
    "maps = (\n",
    "    spark.read.option(\"header\", \"true\")\n",
    "    .option(\"inferSchema\", \"true\")\n",
    "    .csv(\"/home/iceberg/data/maps.csv\")\n",
    ")\n",
    "\n",
    "matches = (\n",
    "    spark.read.option(\"header\", \"true\")\n",
    "    .option(\"inferSchema\", \"true\")\n",
    "    .csv(\"/home/iceberg/data/matches.csv\")\n",
    ")\n",
    "\n",
    "matches_maps_info = (\n",
    "    matches\n",
    "    .join(\n",
    "        f.broadcast(maps),\n",
    "        [\"mapid\"],\n",
    "        \"left\"\n",
    "    )\n",
    "    .withColumnRenamed(\"name\", \"map_name\")\n",
    "    .withColumnRenamed(\"description\", \"map_description\")\n",
    ")\n",
    "\n",
    "#matches_maps_info.show(5, False)"
   ]
  },
  {
   "cell_type": "code",
   "execution_count": 5,
   "id": "8282635d-e96f-439d-a70f-621b8480fe8d",
   "metadata": {},
   "outputs": [],
   "source": [
    "# TASK 3 - Bucket join match_details - matches - medal_matches_players on match_id with 16 buckets\n",
    "# Enable Iceberg v2 tables (Storage Partitioned Joins SPJ)\n",
    "spark.conf.set('spark.sql.sources.v2.bucketing.enabled','true') \n",
    "spark.conf.set('spark.sql.iceberg.planning.preserve-data-grouping','true')"
   ]
  },
  {
   "cell_type": "code",
   "execution_count": 6,
   "id": "912d73c6-9f9d-45d3-9a0e-127c2ec85f97",
   "metadata": {},
   "outputs": [
    {
     "data": {
      "text/plain": [
       "DataFrame[]"
      ]
     },
     "execution_count": 6,
     "metadata": {},
     "output_type": "execute_result"
    }
   ],
   "source": [
    "# DDLs to create bucketed tables\n",
    "# DDL match details\n",
    "bucketed_match_details_ddl = \"\"\"\n",
    "    CREATE TABLE IF NOT EXISTS bootcamp.bucketed_match_details(\n",
    "        match_id STRING,\n",
    "        player_gamertag STRING,\n",
    "        player_total_kills INTEGER,\n",
    "        spartan_rank INTEGER,\n",
    "        total_xp INTEGER\n",
    "    )\n",
    "    USING iceberg\n",
    "    PARTITIONED BY (bucket(16, match_id));\n",
    "\"\"\"\n",
    "\n",
    "spark.sql(bucketed_match_details_ddl)"
   ]
  },
  {
   "cell_type": "code",
   "execution_count": 7,
   "id": "69e03883-788a-4998-9cfd-0c1aaad74dc0",
   "metadata": {},
   "outputs": [
    {
     "name": "stderr",
     "output_type": "stream",
     "text": [
      "                                                                                \r"
     ]
    }
   ],
   "source": [
    "# Load data into match_details_bucketed\n",
    "# Data presents 1 match - player per row\n",
    "(\n",
    "    spark.read.option(\"header\", \"true\")\n",
    "    .option(\"inferSchema\", \"true\")\n",
    "    .csv(\"/home/iceberg/data/match_details.csv\")\n",
    "    .select(\n",
    "        \"match_id\",\n",
    "        \"player_gamertag\",\n",
    "        \"player_total_kills\",\n",
    "        \"spartan_rank\",\n",
    "        \"total_xp\"\n",
    "    )\n",
    "    .write.mode(\"append\")\n",
    "    .bucketBy(16, \"match_id\")\n",
    "    .saveAsTable(\"bootcamp.bucketed_match_details\")\n",
    ")"
   ]
  },
  {
   "cell_type": "code",
   "execution_count": 8,
   "id": "611313d6-e4cb-4d57-bf00-273baa29b1ce",
   "metadata": {},
   "outputs": [
    {
     "data": {
      "text/plain": [
       "DataFrame[]"
      ]
     },
     "execution_count": 8,
     "metadata": {},
     "output_type": "execute_result"
    }
   ],
   "source": [
    "# DDL matches\n",
    "bucketed_matches_ddl = \"\"\"\n",
    "    CREATE TABLE IF NOT EXISTS bootcamp.bucketed_matches (\n",
    "        match_id STRING,\n",
    "        mapid STRING,\n",
    "        playlist_id STRING,\n",
    "        map_name STRING,\n",
    "        map_description STRING,\n",
    "        is_team_game BOOLEAN,\n",
    "        is_match_over BOOLEAN,\n",
    "        completion_date TIMESTAMP\n",
    "    )\n",
    "    USING iceberg\n",
    "    PARTITIONED BY (bucket(16, match_id));\n",
    "\"\"\"\n",
    "\n",
    "spark.sql(bucketed_matches_ddl)"
   ]
  },
  {
   "cell_type": "code",
   "execution_count": 9,
   "id": "154b251f-a377-4500-9027-ce0f57f3bb72",
   "metadata": {},
   "outputs": [
    {
     "name": "stderr",
     "output_type": "stream",
     "text": [
      "                                                                                \r"
     ]
    }
   ],
   "source": [
    "# Load data into match_details_bucketed\n",
    "# Data presents 1 match per row\n",
    "(\n",
    "    matches_maps_info\n",
    "    .select(\n",
    "        \"match_id\",\n",
    "        \"mapid\",\n",
    "        \"playlist_id\",\n",
    "        \"map_name\",\n",
    "        \"map_description\",\n",
    "        \"is_team_game\",\n",
    "        \"is_match_over\",\n",
    "        \"completion_date\"\n",
    "    )\n",
    "    .write.mode(\"append\")\n",
    "    .bucketBy(16, \"match_id\")\n",
    "    .saveAsTable(\"bootcamp.bucketed_matches\")\n",
    ")"
   ]
  },
  {
   "cell_type": "code",
   "execution_count": 10,
   "id": "6cd0e72e-042d-4803-9cf8-9971b7e5b15b",
   "metadata": {},
   "outputs": [
    {
     "data": {
      "text/plain": [
       "DataFrame[]"
      ]
     },
     "execution_count": 10,
     "metadata": {},
     "output_type": "execute_result"
    }
   ],
   "source": [
    "# DDL medal_matches_players\n",
    "bucketed_medals_matches_players_ddl = \"\"\"\n",
    "CREATE TABLE IF NOT EXISTS bootcamp.bucketed_medals_matches_players (\n",
    "    match_id STRING,\n",
    "    player_gamertag STRING,\n",
    "    medal_id STRING,\n",
    "    classification STRING,\n",
    "    medal_description STRING,\n",
    "    medal_difficulty INTEGER,\n",
    "    num_medals INTEGER\n",
    ")\n",
    "USING iceberg\n",
    "PARTITIONED BY (bucket(16, match_id));\n",
    "\"\"\"\n",
    "\n",
    "spark.sql(bucketed_medals_matches_players_ddl)"
   ]
  },
  {
   "cell_type": "code",
   "execution_count": 11,
   "id": "1f9145bf-bede-463d-ab37-969ca6bdf153",
   "metadata": {},
   "outputs": [
    {
     "name": "stderr",
     "output_type": "stream",
     "text": [
      "                                                                                \r"
     ]
    }
   ],
   "source": [
    "# Load data into matches_bucketed based on broadcasted table medals_matches_players - medals\n",
    "# Data presents 1 medal per player per match per row\n",
    "(\n",
    "    medals_matches_players_medal_info\n",
    "    .withColumnRenamed(\"difficulty\", \"medal_difficulty\")\n",
    "    .withColumnRenamed(\"description\", \"medal_description\")\n",
    "    .withColumnRenamed(\"count\", \"num_medals\")\n",
    "    .select(\n",
    "        \"match_id\",\n",
    "        \"player_gamertag\",\n",
    "        \"medal_id\",\n",
    "        \"classification\",\n",
    "        \"medal_description\",\n",
    "        \"medal_difficulty\",\n",
    "        \"num_medals\"\n",
    "    )\n",
    "    .write.mode(\"append\")\n",
    "    .bucketBy(16, \"match_id\")\n",
    "    .saveAsTable(\"bootcamp.bucketed_medals_matches_players\")\n",
    ")"
   ]
  },
  {
   "cell_type": "code",
   "execution_count": 12,
   "id": "e034cc21-9629-455d-b068-97131942e7ba",
   "metadata": {},
   "outputs": [
    {
     "name": "stdout",
     "output_type": "stream",
     "text": [
      "count match_details_bucketed: 151761\n",
      "count matches_bucketed: 24025\n",
      "count medals_matches_players_bucketed: 755229\n"
     ]
    }
   ],
   "source": [
    "match_details_bucketed = spark.table(\"bootcamp.bucketed_match_details\")\n",
    "print(f\"count match_details_bucketed: {match_details_bucketed.count()}\")\n",
    "matches_bucketed = spark.table(\"bootcamp.bucketed_matches\")\n",
    "print(f\"count matches_bucketed: {matches_bucketed.count()}\")\n",
    "medals_matches_players_bucketed = spark.table(\"bootcamp.bucketed_medals_matches_players\")\n",
    "print(f\"count medals_matches_players_bucketed: {medals_matches_players_bucketed.count()}\")"
   ]
  },
  {
   "cell_type": "code",
   "execution_count": 15,
   "id": "8ce8c95e-b538-454c-b8cc-c3157dcf23e8",
   "metadata": {},
   "outputs": [
    {
     "name": "stderr",
     "output_type": "stream",
     "text": [
      "[Stage 32:>                                                         (0 + 1) / 1]\r"
     ]
    },
    {
     "name": "stdout",
     "output_type": "stream",
     "text": [
      "+--------------------+--------------------+--------------------+--------------+--------------------+------------+-------------+-------------------+------------------+------------------+------------+--------+---------------+----------+-----------------+--------------------+----------------+----------+\n",
      "|            match_id|               mapid|         playlist_id|      map_name|     map_description|is_team_game|is_match_over|    completion_date|player_gamertag_md|player_total_kills|spartan_rank|total_xp|player_gamertag|  medal_id|   classification|   medal_description|medal_difficulty|num_medals|\n",
      "+--------------------+--------------------+--------------------+--------------+--------------------+------------+-------------+-------------------+------------------+------------------+------------+--------+---------------+----------+-----------------+--------------------+----------------+----------+\n",
      "|03964845-247e-4f0...|c7edbf0f-f206-11e...|f72e0ef0-7c4a-430...|Breakout Arena|The broadcast of ...|        NULL|         NULL|2016-01-23 00:00:00|       ILLICIT 117|                 7|          82| 2274218|       EcZachly|3261908037|WeaponProficiency|Kill an opponent ...|              60|         3|\n",
      "|03964845-247e-4f0...|c7edbf0f-f206-11e...|f72e0ef0-7c4a-430...|Breakout Arena|The broadcast of ...|        NULL|         NULL|2016-01-23 00:00:00|       ILLICIT 117|                 7|          82| 2274218|    ILLICIT 117|3400287617|            Style|Kill an opponent ...|             155|         1|\n",
      "|03964845-247e-4f0...|c7edbf0f-f206-11e...|f72e0ef0-7c4a-430...|Breakout Arena|The broadcast of ...|        NULL|         NULL|2016-01-23 00:00:00|       ILLICIT 117|                 7|          82| 2274218|    ILLICIT 117|3261908037|WeaponProficiency|Kill an opponent ...|              60|         3|\n",
      "|03964845-247e-4f0...|c7edbf0f-f206-11e...|f72e0ef0-7c4a-430...|Breakout Arena|The broadcast of ...|        NULL|         NULL|2016-01-23 00:00:00|       ILLICIT 117|                 7|          82| 2274218|    ILLICIT 117|2078758684|        MultiKill|Kill 2 opponents ...|              45|         1|\n",
      "|03964845-247e-4f0...|c7edbf0f-f206-11e...|f72e0ef0-7c4a-430...|Breakout Arena|The broadcast of ...|        NULL|         NULL|2016-01-23 00:00:00|       ILLICIT 117|                 7|          82| 2274218|    ILLICIT 117| 298813630|            Style|Kill an enemy wit...|             135|         1|\n",
      "|03964845-247e-4f0...|c7edbf0f-f206-11e...|f72e0ef0-7c4a-430...|Breakout Arena|The broadcast of ...|        NULL|         NULL|2016-01-23 00:00:00|       ILLICIT 117|                 7|          82| 2274218|    ILLICIT 117|2782465081|            Style|Kill an enemy who...|             115|         1|\n",
      "|03964845-247e-4f0...|c7edbf0f-f206-11e...|f72e0ef0-7c4a-430...|Breakout Arena|The broadcast of ...|        NULL|         NULL|2016-01-23 00:00:00|       ILLICIT 117|                 7|          82| 2274218|    YounGun0708|3261908037|WeaponProficiency|Kill an opponent ...|              60|         7|\n",
      "|03964845-247e-4f0...|c7edbf0f-f206-11e...|f72e0ef0-7c4a-430...|Breakout Arena|The broadcast of ...|        NULL|         NULL|2016-01-23 00:00:00|       ILLICIT 117|                 7|          82| 2274218|    YounGun0708|2838259753|            Style|Save a teammate b...|             145|         1|\n",
      "|03964845-247e-4f0...|c7edbf0f-f206-11e...|f72e0ef0-7c4a-430...|Breakout Arena|The broadcast of ...|        NULL|         NULL|2016-01-23 00:00:00|       ILLICIT 117|                 7|          82| 2274218|      Alexkno47|3261908037|WeaponProficiency|Kill an opponent ...|              60|         3|\n",
      "|03964845-247e-4f0...|c7edbf0f-f206-11e...|f72e0ef0-7c4a-430...|Breakout Arena|The broadcast of ...|        NULL|         NULL|2016-01-23 00:00:00|       ILLICIT 117|                 7|          82| 2274218|      Alexkno47|2359847435|         Breakout|Kill every member...|              35|         1|\n",
      "+--------------------+--------------------+--------------------+--------------+--------------------+------------+-------------+-------------------+------------------+------------------+------------+--------+---------------+----------+-----------------+--------------------+----------------+----------+\n",
      "only showing top 10 rows\n",
      "\n"
     ]
    },
    {
     "name": "stderr",
     "output_type": "stream",
     "text": [
      "                                                                                \r"
     ]
    },
    {
     "data": {
      "text/plain": [
       "datetime.timedelta(seconds=3, microseconds=589049)"
      ]
     },
     "execution_count": 15,
     "metadata": {},
     "output_type": "execute_result"
    }
   ],
   "source": [
    "# Bucket join match_details_bucketed - matches_bucketed - medals_matches_players_bucketed\n",
    "from datetime import datetime\n",
    "start = datetime.now()\n",
    "match_details_bucketed = spark.table(\"bootcamp.bucketed_match_details\").withColumnRenamed(\"player_gamertag\",\"player_gamertag_md\")\n",
    "matches_bucketed = spark.table(\"bootcamp.bucketed_matches\")\n",
    "medals_matches_players_bucketed = spark.table(\"bootcamp.bucketed_medals_matches_players\")\n",
    "\n",
    "# There will be Exchange \n",
    "matches_info = (\n",
    "    matches_bucketed\n",
    "    # Results in total number of players considering all matches\n",
    "    .join(match_details_bucketed, [\"match_id\"], \"left\")\n",
    "    # Results in total number of medals from all players in all matches\n",
    "    .join(medals_matches_players_bucketed, [\"match_id\"], \"left\")\n",
    ")\n",
    "\n",
    "# With this volume, it is still cheaper the shuffle than a sort with filter, but it will not be the case with huge volumes of data\n",
    "matches_info.show(10)\n",
    "execution_time=datetime.now() - start\n",
    "execution_time"
   ]
  },
  {
   "cell_type": "code",
   "execution_count": 16,
   "id": "6e128a12-695b-4c36-a3fb-1b1fc1b55cf4",
   "metadata": {},
   "outputs": [
    {
     "name": "stdout",
     "output_type": "stream",
     "text": [
      "== Physical Plan ==\n",
      "AdaptiveSparkPlan isFinalPlan=false\n",
      "+- Project [match_id#589, mapid#590, playlist_id#591, map_name#592, map_description#593, is_team_game#594, is_match_over#595, completion_date#596, player_gamertag_md#578, player_total_kills#570, spartan_rank#571, total_xp#572, player_gamertag#606, medal_id#607, classification#608, medal_description#609, medal_difficulty#610, num_medals#611]\n",
      "   +- SortMergeJoin [match_id#589], [match_id#605], LeftOuter\n",
      "      :- Project [match_id#589, mapid#590, playlist_id#591, map_name#592, map_description#593, is_team_game#594, is_match_over#595, completion_date#596, player_gamertag_md#578, player_total_kills#570, spartan_rank#571, total_xp#572]\n",
      "      :  +- SortMergeJoin [match_id#589], [match_id#568], LeftOuter\n",
      "      :     :- Sort [match_id#589 ASC NULLS FIRST], false, 0\n",
      "      :     :  +- BatchScan demo.bootcamp.bucketed_matches[match_id#589, mapid#590, playlist_id#591, map_name#592, map_description#593, is_team_game#594, is_match_over#595, completion_date#596] demo.bootcamp.bucketed_matches (branch=null) [filters=, groupedBy=match_id_bucket] RuntimeFilters: []\n",
      "      :     +- Sort [match_id#568 ASC NULLS FIRST], false, 0\n",
      "      :        +- Project [match_id#568, player_gamertag#569 AS player_gamertag_md#578, player_total_kills#570, spartan_rank#571, total_xp#572]\n",
      "      :           +- BatchScan demo.bootcamp.bucketed_match_details[match_id#568, player_gamertag#569, player_total_kills#570, spartan_rank#571, total_xp#572] demo.bootcamp.bucketed_match_details (branch=null) [filters=match_id IS NOT NULL, groupedBy=match_id_bucket] RuntimeFilters: []\n",
      "      +- Sort [match_id#605 ASC NULLS FIRST], false, 0\n",
      "         +- BatchScan demo.bootcamp.bucketed_medals_matches_players[match_id#605, player_gamertag#606, medal_id#607, classification#608, medal_description#609, medal_difficulty#610, num_medals#611] demo.bootcamp.bucketed_medals_matches_players (branch=null) [filters=match_id IS NOT NULL, groupedBy=match_id_bucket] RuntimeFilters: []\n",
      "\n",
      "\n"
     ]
    }
   ],
   "source": [
    "# No shuffles when joining (no Exchange operation)\n",
    "matches_info.explain()"
   ]
  },
  {
   "cell_type": "code",
   "execution_count": 17,
   "id": "24c293d2-9fa4-4831-a9fe-8ef01a72c72d",
   "metadata": {},
   "outputs": [
    {
     "name": "stderr",
     "output_type": "stream",
     "text": [
      "[Stage 33:===================================>                    (10 + 6) / 16]\r"
     ]
    },
    {
     "name": "stdout",
     "output_type": "stream",
     "text": [
      "+------------------+---------+\n",
      "|player_gamertag_md|avg_kills|\n",
      "+------------------+---------+\n",
      "|      gimpinator14|    109.0|\n",
      "+------------------+---------+\n",
      "\n"
     ]
    },
    {
     "name": "stderr",
     "output_type": "stream",
     "text": [
      "                                                                                \r"
     ]
    }
   ],
   "source": [
    "# TASK 4 - Player with highest average kills per game\n",
    "player_max_avg_kills = (\n",
    "    matches_info\n",
    "    .groupBy(\"player_gamertag_md\")\n",
    "    .agg(f.avg(\"player_total_kills\").alias(\"avg_kills\"))\n",
    "    .orderBy(f.desc(\"avg_kills\"))\n",
    "    .limit(1)\n",
    ")\n",
    "\n",
    "player_max_avg_kills.show()"
   ]
  },
  {
   "cell_type": "code",
   "execution_count": 18,
   "id": "55df3013-37f7-48be-b9ca-5902e08f7dd7",
   "metadata": {},
   "outputs": [
    {
     "name": "stderr",
     "output_type": "stream",
     "text": [
      "[Stage 36:============================>                            (8 + 8) / 16]\r"
     ]
    },
    {
     "name": "stdout",
     "output_type": "stream",
     "text": [
      "+------------------------------------+---------+\n",
      "|playlist_id                         |num_plays|\n",
      "+------------------------------------+---------+\n",
      "|f72e0ef0-7c4a-4307-af78-8e38dac3fdba|9350     |\n",
      "+------------------------------------+---------+\n",
      "\n"
     ]
    },
    {
     "name": "stderr",
     "output_type": "stream",
     "text": [
      "                                                                                \r"
     ]
    }
   ],
   "source": [
    "# TASK 5 - Playlist which is played the most\n",
    "# On aggregated dataframe, for each match you will have N players and N medals per player.\n",
    "# If each player in a match got 10 medals and there were 5 players, then for that match we will have 50 rows on the final joined DF.\n",
    "# All those 50 rows will belong to the same playlist_id (there is one playlist_id per match)\n",
    "playlist_most_played = (\n",
    "    matches_info\n",
    "    .groupBy(\"playlist_id\")\n",
    "    .agg(f.countDistinct(\"match_id\").alias(\"num_plays\"))\n",
    "    .orderBy(f.desc(\"num_plays\"))\n",
    "    .limit(1)\n",
    ")\n",
    "\n",
    "playlist_most_played.show(truncate=False)"
   ]
  },
  {
   "cell_type": "code",
   "execution_count": 19,
   "id": "c8866622-bd0c-4a2a-acd2-0a1c9d539b45",
   "metadata": {},
   "outputs": [
    {
     "name": "stderr",
     "output_type": "stream",
     "text": [
      "[Stage 39:============================>                            (8 + 8) / 16]\r"
     ]
    },
    {
     "name": "stdout",
     "output_type": "stream",
     "text": [
      "+------------------------------------+--------------+----------------+\n",
      "|mapid                               |map_name      |num_plays_in_map|\n",
      "+------------------------------------+--------------+----------------+\n",
      "|c7edbf0f-f206-11e4-aa52-24be05e24f7e|Breakout Arena|8587            |\n",
      "+------------------------------------+--------------+----------------+\n",
      "\n"
     ]
    },
    {
     "name": "stderr",
     "output_type": "stream",
     "text": [
      "                                                                                \r"
     ]
    }
   ],
   "source": [
    "# TASK 6 - Map which is played the most\n",
    "map_most_played = (\n",
    "    matches_info\n",
    "    .groupBy(\"mapid\", \"map_name\")\n",
    "    .agg(f.countDistinct(\"match_id\").alias(\"num_plays_in_map\"))\n",
    "    .orderBy(f.desc(\"num_plays_in_map\"))\n",
    "    .limit(1)\n",
    ")\n",
    "\n",
    "map_most_played.show(truncate=False)"
   ]
  },
  {
   "cell_type": "code",
   "execution_count": 20,
   "id": "c682e38d-100e-4bef-b5b6-cee183f8ff8a",
   "metadata": {},
   "outputs": [
    {
     "name": "stderr",
     "output_type": "stream",
     "text": [
      "24/12/20 11:27:00 WARN DataSourceV2Strategy: Can't translate true to source filter, unsupported expression\n",
      "[Stage 46:==================================================>       (7 + 1) / 8]\r"
     ]
    },
    {
     "name": "stdout",
     "output_type": "stream",
     "text": [
      "+--------------------+--------------+-----------------+\n",
      "|               mapid|      map_name|num_medals_in_map|\n",
      "+--------------------+--------------+-----------------+\n",
      "|c7edbf0f-f206-11e...|Breakout Arena|             6919|\n",
      "+--------------------+--------------+-----------------+\n",
      "\n"
     ]
    },
    {
     "name": "stderr",
     "output_type": "stream",
     "text": [
      "                                                                                \r"
     ]
    }
   ],
   "source": [
    "# TASK 7 - Map where players get the most Killing Spree medals\n",
    "map_most_killing_spree_medals = (\n",
    "    matches_info\n",
    "    # pre filter to keep just Killing Spree medals\n",
    "    .filter(f.lower(f.col(\"classification\")) == 'killingspree')\n",
    "    # Player gamertag must be informed on medals_matches_players because it is there where you observe how many medals he won\n",
    "    .filter(f.col(\"player_gamertag\").isNotNull())\n",
    "    # Get for each player the medals achieved just by him and not by others who played on the same match_id\n",
    "    .filter(f.col(\"player_gamertag\") == f.col(\"player_gamertag_md\"))\n",
    "    .groupBy(\"mapid\", \"map_name\")\n",
    "    .agg(f.sum(\"num_medals\").alias(\"num_medals_in_map\"))\n",
    "    .orderBy(f.desc(\"num_medals_in_map\"))\n",
    "    .limit(1)\n",
    ")\n",
    "\n",
    "map_most_killing_spree_medals.show()"
   ]
  },
  {
   "cell_type": "code",
   "execution_count": 21,
   "id": "e1093917-ae23-4d71-8f86-94a5cc7233b2",
   "metadata": {},
   "outputs": [
    {
     "name": "stderr",
     "output_type": "stream",
     "text": [
      "                                                                                \r"
     ]
    }
   ],
   "source": [
    "# TASK 8 - Try different sortWithinPartitions with the aggregated dataset to check which of them get the best compression\n",
    "\n",
    "# Select sorted columns from lowest to highest cardinality\n",
    "\n",
    "# save aggregated table without sorting\n",
    "matches_info.write.mode(\"overwrite\").saveAsTable(\"bootcamp.matches_info_unsorted\")\n",
    "\n",
    "# test sortWithinPartitions  mapid - playlist_id\n",
    "matches_info.sortWithinPartitions(f.col(\"mapid\"), f.col(\"playlist_id\")).write.mode(\"overwrite\").saveAsTable(\"bootcamp.matches_info_sorted_map_playlist\")\n",
    "\n",
    "# test sortWithinPartitions  mapid - playlist_id - medal_id\n",
    "matches_info.sortWithinPartitions(f.col(\"mapid\"), f.col(\"playlist_id\"), f.col(\"medal_id\")).write.mode(\"overwrite\").saveAsTable(\"bootcamp.matches_info_sorted_map_playlist_medal\")\n",
    "\n",
    "# test sortWithinPartitions  mapid\n",
    "matches_info.sortWithinPartitions(f.col(\"mapid\")).write.mode(\"overwrite\").saveAsTable(\"bootcamp.matches_info_sorted_map\")\n",
    "\n",
    "# test sortWithinPartitions  playlist_id\n",
    "matches_info.sortWithinPartitions(f.col(\"playlist_id\")).write.mode(\"overwrite\").saveAsTable(\"bootcamp.matches_info_sorted_playlist\")"
   ]
  },
  {
   "cell_type": "code",
   "execution_count": 23,
   "id": "b67be85b-94ab-4d70-aadf-58ec89ed5834",
   "metadata": {},
   "outputs": [
    {
     "data": {
      "text/html": [
       "<table>\n",
       "    <thead>\n",
       "        <tr>\n",
       "            <th>size</th>\n",
       "            <th>num_files</th>\n",
       "            <th>table_name</th>\n",
       "        </tr>\n",
       "    </thead>\n",
       "    <tbody>\n",
       "        <tr>\n",
       "            <td>16117820</td>\n",
       "            <td>16</td>\n",
       "            <td>unsorted</td>\n",
       "        </tr>\n",
       "        <tr>\n",
       "            <td>28625096</td>\n",
       "            <td>16</td>\n",
       "            <td>sorted_map_playlist</td>\n",
       "        </tr>\n",
       "        <tr>\n",
       "            <td>29628103</td>\n",
       "            <td>16</td>\n",
       "            <td>sorted_playlist</td>\n",
       "        </tr>\n",
       "        <tr>\n",
       "            <td>30087637</td>\n",
       "            <td>16</td>\n",
       "            <td>sorted_map</td>\n",
       "        </tr>\n",
       "        <tr>\n",
       "            <td>37622437</td>\n",
       "            <td>16</td>\n",
       "            <td>sorted_map_playlist_medal</td>\n",
       "        </tr>\n",
       "    </tbody>\n",
       "</table>"
      ],
      "text/plain": [
       "+----------+-----------+---------------------------+\n",
       "|     size | num_files |                table_name |\n",
       "+----------+-----------+---------------------------+\n",
       "| 16117820 |        16 |                  unsorted |\n",
       "| 28625096 |        16 |       sorted_map_playlist |\n",
       "| 29628103 |        16 |           sorted_playlist |\n",
       "| 30087637 |        16 |                sorted_map |\n",
       "| 37622437 |        16 | sorted_map_playlist_medal |\n",
       "+----------+-----------+---------------------------+"
      ]
     },
     "execution_count": 23,
     "metadata": {},
     "output_type": "execute_result"
    },
    {
     "name": "stderr",
     "output_type": "stream",
     "text": [
      "24/12/20 12:38:31 WARN HeartbeatReceiver: Removing executor driver with no recent heartbeats: 1514907 ms exceeds timeout 120000 ms\n",
      "24/12/20 12:38:31 WARN SparkContext: Killing executors is not supported by current scheduler.\n",
      "24/12/20 12:38:39 ERROR Inbox: Ignoring error\n",
      "org.apache.spark.SparkException: Exception thrown in awaitResult: \n",
      "\tat org.apache.spark.util.SparkThreadUtils$.awaitResult(SparkThreadUtils.scala:56)\n",
      "\tat org.apache.spark.util.ThreadUtils$.awaitResult(ThreadUtils.scala:310)\n",
      "\tat org.apache.spark.rpc.RpcTimeout.awaitResult(RpcTimeout.scala:75)\n",
      "\tat org.apache.spark.rpc.RpcEnv.setupEndpointRefByURI(RpcEnv.scala:102)\n",
      "\tat org.apache.spark.rpc.RpcEnv.setupEndpointRef(RpcEnv.scala:110)\n",
      "\tat org.apache.spark.util.RpcUtils$.makeDriverRef(RpcUtils.scala:36)\n",
      "\tat org.apache.spark.storage.BlockManagerMasterEndpoint.driverEndpoint$lzycompute(BlockManagerMasterEndpoint.scala:124)\n",
      "\tat org.apache.spark.storage.BlockManagerMasterEndpoint.org$apache$spark$storage$BlockManagerMasterEndpoint$$driverEndpoint(BlockManagerMasterEndpoint.scala:123)\n",
      "\tat org.apache.spark.storage.BlockManagerMasterEndpoint.isExecutorAlive$lzycompute$1(BlockManagerMasterEndpoint.scala:688)\n",
      "\tat org.apache.spark.storage.BlockManagerMasterEndpoint.isExecutorAlive$1(BlockManagerMasterEndpoint.scala:687)\n",
      "\tat org.apache.spark.storage.BlockManagerMasterEndpoint.org$apache$spark$storage$BlockManagerMasterEndpoint$$register(BlockManagerMasterEndpoint.scala:725)\n",
      "\tat org.apache.spark.storage.BlockManagerMasterEndpoint$$anonfun$receiveAndReply$1.applyOrElse(BlockManagerMasterEndpoint.scala:133)\n",
      "\tat org.apache.spark.rpc.netty.Inbox.$anonfun$process$1(Inbox.scala:103)\n",
      "\tat org.apache.spark.rpc.netty.Inbox.safelyCall(Inbox.scala:213)\n",
      "\tat org.apache.spark.rpc.netty.Inbox.process(Inbox.scala:100)\n",
      "\tat org.apache.spark.rpc.netty.MessageLoop.org$apache$spark$rpc$netty$MessageLoop$$receiveLoop(MessageLoop.scala:75)\n",
      "\tat org.apache.spark.rpc.netty.MessageLoop$$anon$1.run(MessageLoop.scala:41)\n",
      "\tat java.base/java.util.concurrent.ThreadPoolExecutor.runWorker(ThreadPoolExecutor.java:1128)\n",
      "\tat java.base/java.util.concurrent.ThreadPoolExecutor$Worker.run(ThreadPoolExecutor.java:628)\n",
      "\tat java.base/java.lang.Thread.run(Thread.java:829)\n",
      "Caused by: org.apache.spark.rpc.RpcEndpointNotFoundException: Cannot find endpoint: spark://CoarseGrainedScheduler@d71ced0178be:37581\n",
      "\tat org.apache.spark.rpc.netty.NettyRpcEnv.$anonfun$asyncSetupEndpointRefByURI$1(NettyRpcEnv.scala:148)\n",
      "\tat org.apache.spark.rpc.netty.NettyRpcEnv.$anonfun$asyncSetupEndpointRefByURI$1$adapted(NettyRpcEnv.scala:144)\n",
      "\tat scala.concurrent.Future.$anonfun$flatMap$1(Future.scala:307)\n",
      "\tat scala.concurrent.impl.Promise.$anonfun$transformWith$1(Promise.scala:41)\n",
      "\tat scala.concurrent.impl.CallbackRunnable.run(Promise.scala:64)\n",
      "\tat org.apache.spark.util.ThreadUtils$$anon$1.execute(ThreadUtils.scala:99)\n",
      "\tat scala.concurrent.impl.ExecutionContextImpl$$anon$4.execute(ExecutionContextImpl.scala:138)\n",
      "\tat scala.concurrent.impl.CallbackRunnable.executeWithValue(Promise.scala:72)\n",
      "\tat scala.concurrent.impl.Promise$DefaultPromise.dispatchOrAddCallback(Promise.scala:316)\n",
      "\tat scala.concurrent.impl.Promise$DefaultPromise.onComplete(Promise.scala:307)\n",
      "\tat scala.concurrent.impl.Promise.transformWith(Promise.scala:40)\n",
      "\tat scala.concurrent.impl.Promise.transformWith$(Promise.scala:38)\n",
      "\tat scala.concurrent.impl.Promise$DefaultPromise.transformWith(Promise.scala:187)\n",
      "\tat scala.concurrent.Future.flatMap(Future.scala:306)\n",
      "\tat scala.concurrent.Future.flatMap$(Future.scala:306)\n",
      "\tat scala.concurrent.impl.Promise$DefaultPromise.flatMap(Promise.scala:187)\n",
      "\tat org.apache.spark.rpc.netty.NettyRpcEnv.asyncSetupEndpointRefByURI(NettyRpcEnv.scala:150)\n",
      "\t... 17 more\n",
      "24/12/20 12:38:39 WARN Executor: Issue communicating with driver in heartbeater\n",
      "org.apache.spark.SparkException: Exception thrown in awaitResult: \n",
      "\tat org.apache.spark.util.SparkThreadUtils$.awaitResult(SparkThreadUtils.scala:56)\n",
      "\tat org.apache.spark.util.ThreadUtils$.awaitResult(ThreadUtils.scala:310)\n",
      "\tat org.apache.spark.rpc.RpcTimeout.awaitResult(RpcTimeout.scala:75)\n",
      "\tat org.apache.spark.rpc.RpcEndpointRef.askSync(RpcEndpointRef.scala:101)\n",
      "\tat org.apache.spark.rpc.RpcEndpointRef.askSync(RpcEndpointRef.scala:85)\n",
      "\tat org.apache.spark.storage.BlockManagerMaster.registerBlockManager(BlockManagerMaster.scala:80)\n",
      "\tat org.apache.spark.storage.BlockManager.reregister(BlockManager.scala:642)\n",
      "\tat org.apache.spark.executor.Executor.reportHeartBeat(Executor.scala:1223)\n",
      "\tat org.apache.spark.executor.Executor.$anonfun$heartbeater$1(Executor.scala:295)\n",
      "\tat scala.runtime.java8.JFunction0$mcV$sp.apply(JFunction0$mcV$sp.java:23)\n",
      "\tat org.apache.spark.util.Utils$.logUncaughtExceptions(Utils.scala:1928)\n",
      "\tat org.apache.spark.Heartbeater$$anon$1.run(Heartbeater.scala:46)\n",
      "\tat java.base/java.util.concurrent.Executors$RunnableAdapter.call(Executors.java:515)\n",
      "\tat java.base/java.util.concurrent.FutureTask.runAndReset(FutureTask.java:305)\n",
      "\tat java.base/java.util.concurrent.ScheduledThreadPoolExecutor$ScheduledFutureTask.run(ScheduledThreadPoolExecutor.java:305)\n",
      "\tat java.base/java.util.concurrent.ThreadPoolExecutor.runWorker(ThreadPoolExecutor.java:1128)\n",
      "\tat java.base/java.util.concurrent.ThreadPoolExecutor$Worker.run(ThreadPoolExecutor.java:628)\n",
      "\tat java.base/java.lang.Thread.run(Thread.java:829)\n",
      "Caused by: org.apache.spark.SparkException: Exception thrown in awaitResult: \n",
      "\tat org.apache.spark.util.SparkThreadUtils$.awaitResult(SparkThreadUtils.scala:56)\n",
      "\tat org.apache.spark.util.ThreadUtils$.awaitResult(ThreadUtils.scala:310)\n",
      "\tat org.apache.spark.rpc.RpcTimeout.awaitResult(RpcTimeout.scala:75)\n",
      "\tat org.apache.spark.rpc.RpcEnv.setupEndpointRefByURI(RpcEnv.scala:102)\n",
      "\tat org.apache.spark.rpc.RpcEnv.setupEndpointRef(RpcEnv.scala:110)\n",
      "\tat org.apache.spark.util.RpcUtils$.makeDriverRef(RpcUtils.scala:36)\n",
      "\tat org.apache.spark.storage.BlockManagerMasterEndpoint.driverEndpoint$lzycompute(BlockManagerMasterEndpoint.scala:124)\n",
      "\tat org.apache.spark.storage.BlockManagerMasterEndpoint.org$apache$spark$storage$BlockManagerMasterEndpoint$$driverEndpoint(BlockManagerMasterEndpoint.scala:123)\n",
      "\tat org.apache.spark.storage.BlockManagerMasterEndpoint.isExecutorAlive$lzycompute$1(BlockManagerMasterEndpoint.scala:688)\n",
      "\tat org.apache.spark.storage.BlockManagerMasterEndpoint.isExecutorAlive$1(BlockManagerMasterEndpoint.scala:687)\n",
      "\tat org.apache.spark.storage.BlockManagerMasterEndpoint.org$apache$spark$storage$BlockManagerMasterEndpoint$$register(BlockManagerMasterEndpoint.scala:725)\n",
      "\tat org.apache.spark.storage.BlockManagerMasterEndpoint$$anonfun$receiveAndReply$1.applyOrElse(BlockManagerMasterEndpoint.scala:133)\n",
      "\tat org.apache.spark.rpc.netty.Inbox.$anonfun$process$1(Inbox.scala:103)\n",
      "\tat org.apache.spark.rpc.netty.Inbox.safelyCall(Inbox.scala:213)\n",
      "\tat org.apache.spark.rpc.netty.Inbox.process(Inbox.scala:100)\n",
      "\tat org.apache.spark.rpc.netty.MessageLoop.org$apache$spark$rpc$netty$MessageLoop$$receiveLoop(MessageLoop.scala:75)\n",
      "\tat org.apache.spark.rpc.netty.MessageLoop$$anon$1.run(MessageLoop.scala:41)\n",
      "\t... 3 more\n",
      "Caused by: org.apache.spark.rpc.RpcEndpointNotFoundException: Cannot find endpoint: spark://CoarseGrainedScheduler@d71ced0178be:37581\n",
      "\tat org.apache.spark.rpc.netty.NettyRpcEnv.$anonfun$asyncSetupEndpointRefByURI$1(NettyRpcEnv.scala:148)\n",
      "\tat org.apache.spark.rpc.netty.NettyRpcEnv.$anonfun$asyncSetupEndpointRefByURI$1$adapted(NettyRpcEnv.scala:144)\n",
      "\tat scala.concurrent.Future.$anonfun$flatMap$1(Future.scala:307)\n",
      "\tat scala.concurrent.impl.Promise.$anonfun$transformWith$1(Promise.scala:41)\n",
      "\tat scala.concurrent.impl.CallbackRunnable.run(Promise.scala:64)\n",
      "\tat org.apache.spark.util.ThreadUtils$$anon$1.execute(ThreadUtils.scala:99)\n",
      "\tat scala.concurrent.impl.ExecutionContextImpl$$anon$4.execute(ExecutionContextImpl.scala:138)\n",
      "\tat scala.concurrent.impl.CallbackRunnable.executeWithValue(Promise.scala:72)\n",
      "\tat scala.concurrent.impl.Promise$DefaultPromise.dispatchOrAddCallback(Promise.scala:316)\n",
      "\tat scala.concurrent.impl.Promise$DefaultPromise.onComplete(Promise.scala:307)\n",
      "\tat scala.concurrent.impl.Promise.transformWith(Promise.scala:40)\n",
      "\tat scala.concurrent.impl.Promise.transformWith$(Promise.scala:38)\n",
      "\tat scala.concurrent.impl.Promise$DefaultPromise.transformWith(Promise.scala:187)\n",
      "\tat scala.concurrent.Future.flatMap(Future.scala:306)\n",
      "\tat scala.concurrent.Future.flatMap$(Future.scala:306)\n",
      "\tat scala.concurrent.impl.Promise$DefaultPromise.flatMap(Promise.scala:187)\n",
      "\tat org.apache.spark.rpc.netty.NettyRpcEnv.asyncSetupEndpointRefByURI(NettyRpcEnv.scala:150)\n",
      "\t... 17 more\n"
     ]
    }
   ],
   "source": [
    "%%sql\n",
    "\n",
    "/*  Check which of all sorted version compresses data better */\n",
    "SELECT SUM(file_size_in_bytes) as size, count(1) as num_files, 'unsorted' as table_name from demo.bootcamp.matches_info_unsorted.files\n",
    "UNION ALL\n",
    "SELECT SUM(file_size_in_bytes) as size, count(1) as num_files, 'sorted_map_playlist' as table_name from demo.bootcamp.matches_info_sorted_map_playlist.files\n",
    "UNION ALL\n",
    "SELECT SUM(file_size_in_bytes) as size, count(1) as num_files, 'sorted_map_playlist_medal' as table_name from demo.bootcamp.matches_info_sorted_map_playlist_medal.files\n",
    "UNION ALL\n",
    "SELECT SUM(file_size_in_bytes) as size, count(1) as num_files, 'sorted_map' as table_name from demo.bootcamp.matches_info_sorted_map.files\n",
    "UNION ALL\n",
    "SELECT SUM(file_size_in_bytes) as size, count(1) as num_files, 'sorted_playlist' as table_name from demo.bootcamp.matches_info_sorted_playlist.files\n",
    "ORDER BY size;"
   ]
  },
  {
   "cell_type": "code",
   "execution_count": null,
   "id": "edc5d152-3dda-41db-a3d1-c898677fad97",
   "metadata": {},
   "outputs": [],
   "source": [
    "%%sql\n",
    "\n",
    "SELECT *\n",
    "FROM demo.bootcamp.matches_info_rep_sorted_playlist.files"
   ]
  }
 ],
 "metadata": {
  "kernelspec": {
   "display_name": "Python 3 (ipykernel)",
   "language": "python",
   "name": "python3"
  },
  "language_info": {
   "codemirror_mode": {
    "name": "ipython",
    "version": 3
   },
   "file_extension": ".py",
   "mimetype": "text/x-python",
   "name": "python",
   "nbconvert_exporter": "python",
   "pygments_lexer": "ipython3",
   "version": "3.9.18"
  }
 },
 "nbformat": 4,
 "nbformat_minor": 5
}
